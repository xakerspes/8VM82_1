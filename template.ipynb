{
 "cells": [
  {
   "cell_type": "code",
   "execution_count": 5,
   "metadata": {},
   "outputs": [
    {
     "ename": "IndentationError",
     "evalue": "unindent does not match any outer indentation level (<tokenize>, line 15)",
     "output_type": "error",
     "traceback": [
      "\u001b[1;36m  File \u001b[1;32m\"<tokenize>\"\u001b[1;36m, line \u001b[1;32m15\u001b[0m\n\u001b[1;33m    df = pd.DataFrame(array)\u001b[0m\n\u001b[1;37m    ^\u001b[0m\n\u001b[1;31mIndentationError\u001b[0m\u001b[1;31m:\u001b[0m unindent does not match any outer indentation level\n"
     ]
    }
   ],
   "source": [
    "import struct, ctypes, os\n",
    "import numpy as np, pandas as pd \n",
    "\n",
    "mystruct = struct.Struct('iiifi256i')\n",
    "buff = ctypes.create_string_buffer(mystruct.size)\n",
    "with open(input_filename, mode='rb') as f:\n",
    "    nrows = os.fstat(f.fileno()).st_size / entry_size\n",
    "    dtype = 'i,i,i,d,i,i8'\n",
    "    array = np.empty((nrows,), dtype=dtype)\n",
    "    for row in xrange(row):\n",
    "        buff.raw = f.read(s.size)\n",
    "        record = mystruct.unpack_from(buff, 0)\n",
    "        #record = np.fromstring(buff, dtype=dtype)\n",
    "        array[row] = record\n",
    " df = pd.DataFrame(array)\n"
   ]
  },
  {
   "cell_type": "code",
   "execution_count": null,
   "metadata": {},
   "outputs": [],
   "source": []
  }
 ],
 "metadata": {
  "kernelspec": {
   "display_name": "Python 3",
   "language": "python",
   "name": "python3"
  },
  "language_info": {
   "codemirror_mode": {
    "name": "ipython",
    "version": 3
   },
   "file_extension": ".py",
   "mimetype": "text/x-python",
   "name": "python",
   "nbconvert_exporter": "python",
   "pygments_lexer": "ipython3",
   "version": "3.7.3"
  }
 },
 "nbformat": 4,
 "nbformat_minor": 2
}
