{
 "cells": [
  {
   "cell_type": "code",
   "execution_count": 4,
   "metadata": {},
   "outputs": [
    {
     "name": "stdout",
     "output_type": "stream",
     "text": [
      "['Geeks', 'for', 'Geeks']\n",
      "Geeks-for-Geeks\n"
     ]
    }
   ],
   "source": [
    "def split_string(string): \n",
    "  \n",
    "    # Split the string based on space delimiter \n",
    "    list_string = string.split(' ') \n",
    "      \n",
    "    return list_string \n",
    "  \n",
    "def join_string(list_string): \n",
    "   \n",
    "    string = '-'.join(list_string) \n",
    "    return string \n",
    "# Driver Function \n",
    "if __name__ == '__main__': \n",
    "    string = 'Geeks for Geeks'\n",
    "      \n",
    "    # Splitting a string \n",
    "    list_string = split_string(string) \n",
    "    print(list_string) \n",
    "    new_string = join_string(list_string) \n",
    "    print(new_string) "
   ]
  },
  {
   "cell_type": "code",
   "execution_count": 78,
   "metadata": {},
   "outputs": [],
   "source": [
    "import numpy as np\n",
    "import binascii\n",
    "filename = '12.gr2' \n",
    "with open(filename, 'rb') as f:\n",
    "    a=np.frombuffer(f.read(), dtype='H')\n"
   ]
  },
  {
   "cell_type": "code",
   "execution_count": 79,
   "metadata": {},
   "outputs": [
    {
     "ename": "ValueError",
     "evalue": "cannot reshape array of size 102 into shape (17,12)",
     "output_type": "error",
     "traceback": [
      "\u001b[1;31m---------------------------------------------------------------------------\u001b[0m",
      "\u001b[1;31mValueError\u001b[0m                                Traceback (most recent call last)",
      "\u001b[1;32m<ipython-input-79-eee57c5484cd>\u001b[0m in \u001b[0;36m<module>\u001b[1;34m\u001b[0m\n\u001b[1;32m----> 1\u001b[1;33m \u001b[0ma\u001b[0m\u001b[1;33m=\u001b[0m\u001b[1;33m(\u001b[0m\u001b[0ma\u001b[0m\u001b[1;33m[\u001b[0m\u001b[1;33m:\u001b[0m\u001b[1;33m:\u001b[0m\u001b[1;33m-\u001b[0m\u001b[1;36m1\u001b[0m\u001b[1;33m]\u001b[0m\u001b[1;33m)\u001b[0m\u001b[1;33m.\u001b[0m\u001b[0mreshape\u001b[0m\u001b[1;33m(\u001b[0m\u001b[1;36m17\u001b[0m\u001b[1;33m,\u001b[0m\u001b[1;36m12\u001b[0m\u001b[1;33m)\u001b[0m\u001b[1;33m\u001b[0m\u001b[1;33m\u001b[0m\u001b[0m\n\u001b[0m",
      "\u001b[1;31mValueError\u001b[0m: cannot reshape array of size 102 into shape (17,12)"
     ]
    }
   ],
   "source": [
    "a=(a[::-1]).reshape(17,12)"
   ]
  },
  {
   "cell_type": "code",
   "execution_count": 80,
   "metadata": {},
   "outputs": [
    {
     "ename": "IndexError",
     "evalue": "too many indices for array",
     "output_type": "error",
     "traceback": [
      "\u001b[1;31m---------------------------------------------------------------------------\u001b[0m",
      "\u001b[1;31mIndexError\u001b[0m                                Traceback (most recent call last)",
      "\u001b[1;32m<ipython-input-80-9c6bf30f6e5f>\u001b[0m in \u001b[0;36m<module>\u001b[1;34m\u001b[0m\n\u001b[1;32m----> 1\u001b[1;33m \u001b[0ma1\u001b[0m \u001b[1;33m=\u001b[0m \u001b[0ma\u001b[0m\u001b[1;33m[\u001b[0m\u001b[1;33m:\u001b[0m\u001b[1;33m-\u001b[0m\u001b[1;36m1\u001b[0m\u001b[1;33m,\u001b[0m\u001b[1;33m:\u001b[0m\u001b[1;36m2\u001b[0m\u001b[1;33m]\u001b[0m\u001b[1;33m\u001b[0m\u001b[1;33m\u001b[0m\u001b[0m\n\u001b[0m\u001b[0;32m      2\u001b[0m \u001b[0ma2\u001b[0m \u001b[1;33m=\u001b[0m \u001b[0ma\u001b[0m\u001b[1;33m[\u001b[0m\u001b[1;33m:\u001b[0m\u001b[1;33m-\u001b[0m\u001b[1;36m1\u001b[0m\u001b[1;33m,\u001b[0m\u001b[1;36m2\u001b[0m\u001b[1;33m:\u001b[0m\u001b[1;36m4\u001b[0m\u001b[1;33m]\u001b[0m\u001b[1;33m\u001b[0m\u001b[1;33m\u001b[0m\u001b[0m\n\u001b[0;32m      3\u001b[0m \u001b[0ma3\u001b[0m \u001b[1;33m=\u001b[0m \u001b[0ma\u001b[0m\u001b[1;33m[\u001b[0m\u001b[1;33m:\u001b[0m\u001b[1;33m-\u001b[0m\u001b[1;36m1\u001b[0m\u001b[1;33m,\u001b[0m\u001b[1;36m4\u001b[0m\u001b[1;33m:\u001b[0m\u001b[1;36m6\u001b[0m\u001b[1;33m]\u001b[0m\u001b[1;33m\u001b[0m\u001b[1;33m\u001b[0m\u001b[0m\n\u001b[0;32m      4\u001b[0m \u001b[0ma4\u001b[0m \u001b[1;33m=\u001b[0m \u001b[0ma\u001b[0m\u001b[1;33m[\u001b[0m\u001b[1;33m:\u001b[0m\u001b[1;33m-\u001b[0m\u001b[1;36m1\u001b[0m\u001b[1;33m,\u001b[0m\u001b[1;36m6\u001b[0m\u001b[1;33m:\u001b[0m\u001b[1;36m8\u001b[0m\u001b[1;33m]\u001b[0m\u001b[1;33m\u001b[0m\u001b[1;33m\u001b[0m\u001b[0m\n",
      "\u001b[1;31mIndexError\u001b[0m: too many indices for array"
     ]
    }
   ],
   "source": [
    "a1 = a[:-1,:2]\n",
    "a2 = a[:-1,2:4]\n",
    "a3 = a[:-1,4:6]\n",
    "a4 = a[:-1,6:8]"
   ]
  },
  {
   "cell_type": "code",
   "execution_count": 77,
   "metadata": {},
   "outputs": [
    {
     "name": "stdout",
     "output_type": "stream",
     "text": [
      "[[  0 201]\n",
      " [  0 212]\n",
      " [  0 213]\n",
      " [  1  33]\n",
      " [  0 238]\n",
      " [  0 243]\n",
      " [  0 206]\n",
      " [  0 214]\n",
      " [  0 219]\n",
      " [  0 209]\n",
      " [  1   3]\n",
      " [  0 204]\n",
      " [  0 203]\n",
      " [  0 204]\n",
      " [  0 223]\n",
      " [  0 201]] [[  0 205]\n",
      " [  0 189]\n",
      " [  0 149]\n",
      " [  0 164]\n",
      " [  0 193]\n",
      " [  0 140]\n",
      " [  0 103]\n",
      " [  0 131]\n",
      " [  0 100]\n",
      " [  0 159]\n",
      " [  1 103]\n",
      " [  1  15]\n",
      " [  0 175]\n",
      " [  0 208]\n",
      " [  0 246]\n",
      " [  0 184]] [[  0 220]\n",
      " [  0 206]\n",
      " [  0 207]\n",
      " [  1 138]\n",
      " [  0 224]\n",
      " [  1  55]\n",
      " [  1  66]\n",
      " [  0 233]\n",
      " [  1  54]\n",
      " [  0 201]\n",
      " [  1  32]\n",
      " [  0 222]\n",
      " [  0 212]\n",
      " [  0 238]\n",
      " [  1  30]\n",
      " [  0 222]] [[  3  96]\n",
      " [  3 117]\n",
      " [  3  23]\n",
      " [  3  44]\n",
      " [  3 113]\n",
      " [  3  23]\n",
      " [  2 149]\n",
      " [  2 140]\n",
      " [  2 105]\n",
      " [  3  49]\n",
      " [  5  28]\n",
      " [  4  45]\n",
      " [  3 157]\n",
      " [  3 112]\n",
      " [  3 194]\n",
      " [  3  96]]\n"
     ]
    }
   ],
   "source": [
    "print(a1, a2, a3, a4) "
   ]
  },
  {
   "cell_type": "code",
   "execution_count": 73,
   "metadata": {},
   "outputs": [
    {
     "data": {
      "text/plain": [
       "array([[  0, 201,   0, 205,   0, 220,   3,  96, 221, 116, 155, 178],\n",
       "       [  0, 212,   0, 189,   0, 206,   3, 117, 221, 116, 155, 168],\n",
       "       [  0, 213,   0, 149,   0, 207,   3,  23, 221, 116, 155, 158],\n",
       "       [  1,  33,   0, 164,   1, 138,   3,  44, 221, 116, 155, 148],\n",
       "       [  0, 238,   0, 193,   0, 224,   3, 113, 221, 116, 155, 138],\n",
       "       [  0, 243,   0, 140,   1,  55,   3,  23, 221, 116, 155, 128],\n",
       "       [  0, 206,   0, 103,   1,  66,   2, 149, 221, 116, 155, 118],\n",
       "       [  0, 214,   0, 131,   0, 233,   2, 140, 221, 116, 155, 108],\n",
       "       [  0, 219,   0, 100,   1,  54,   2, 105, 221, 116, 155,  98],\n",
       "       [  0, 209,   0, 159,   0, 201,   3,  49, 221, 116, 155,  88],\n",
       "       [  1,   3,   1, 103,   1,  32,   5,  28, 221, 116, 155,  78],\n",
       "       [  0, 204,   1,  15,   0, 222,   4,  45, 221, 116, 155,  68],\n",
       "       [  0, 203,   0, 175,   0, 212,   3, 157, 221, 116, 155,  58],\n",
       "       [  0, 204,   0, 208,   0, 238,   3, 112, 221, 116, 155,  48],\n",
       "       [  0, 223,   0, 246,   1,  30,   3, 194, 221, 116, 155,  38],\n",
       "       [  0, 201,   0, 184,   0, 222,   3,  96, 221, 116, 155,  28],\n",
       "       [ 71,  86,  50,  52, 111, 116, 232,  72,  50,  48,  82,  71]],\n",
       "      dtype=uint8)"
      ]
     },
     "execution_count": 73,
     "metadata": {},
     "output_type": "execute_result"
    }
   ],
   "source": [
    "a"
   ]
  },
  {
   "cell_type": "code",
   "execution_count": null,
   "metadata": {},
   "outputs": [],
   "source": []
  },
  {
   "cell_type": "code",
   "execution_count": null,
   "metadata": {},
   "outputs": [],
   "source": []
  },
  {
   "cell_type": "code",
   "execution_count": null,
   "metadata": {},
   "outputs": [],
   "source": []
  },
  {
   "cell_type": "code",
   "execution_count": null,
   "metadata": {},
   "outputs": [],
   "source": []
  }
 ],
 "metadata": {
  "kernelspec": {
   "display_name": "Python 3",
   "language": "python",
   "name": "python3"
  },
  "language_info": {
   "codemirror_mode": {
    "name": "ipython",
    "version": 3
   },
   "file_extension": ".py",
   "mimetype": "text/x-python",
   "name": "python",
   "nbconvert_exporter": "python",
   "pygments_lexer": "ipython3",
   "version": "3.7.3"
  }
 },
 "nbformat": 4,
 "nbformat_minor": 2
}
