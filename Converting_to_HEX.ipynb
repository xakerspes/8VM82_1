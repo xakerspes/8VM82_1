{
 "cells": [
  {
   "cell_type": "code",
   "execution_count": 109,
   "metadata": {},
   "outputs": [],
   "source": [
    "import hexdump\n",
    "import numpy as np"
   ]
  },
  {
   "cell_type": "code",
   "execution_count": 4,
   "metadata": {},
   "outputs": [],
   "source": [
    "import struct\n",
    "file_in = '123.gr2'\n",
    "fd = open(file_in,'rb')\n",
    "numpy_data = np.fromfile(fd, dtype = np.dtype('b'))"
   ]
  },
  {
   "cell_type": "code",
   "execution_count": 5,
   "metadata": {},
   "outputs": [],
   "source": [
    "l= list(i*i for i in range(0,500) if i%5==0)"
   ]
  },
  {
   "cell_type": "code",
   "execution_count": 10,
   "metadata": {},
   "outputs": [
    {
     "name": "stdout",
     "output_type": "stream",
     "text": [
      "[[ 71  82  48  50  72 232 116 111  52  50  86  71]\n",
      " [ 28 155 116 221  96   3 222   0 184   0 201   0]\n",
      " [ 38 155 116 221 194   3  30   1 246   0 223   0]\n",
      " [ 48 155 116 221 112   3 238   0 208   0 204   0]\n",
      " [ 58 155 116 221 157   3 212   0 175   0 203   0]\n",
      " [ 68 155 116 221  45   4 222   0  15   1 204   0]\n",
      " [ 78 155 116 221  28   5  32   1 103   1   3   1]\n",
      " [ 88 155 116 221  49   3 201   0 159   0 209   0]\n",
      " [ 98 155 116 221 105   2  54   1 100   0 219   0]\n",
      " [108 155 116 221 140   2 233   0 131   0 214   0]\n",
      " [118 155 116 221 149   2  66   1 103   0 206   0]\n",
      " [128 155 116 221  23   3  55   1 140   0 243   0]\n",
      " [138 155 116 221 113   3 224   0 193   0 238   0]\n",
      " [148 155 116 221  44   3 138   1 164   0  33   1]\n",
      " [158 155 116 221  23   3 207   0 149   0 213   0]\n",
      " [168 155 116 221 117   3 206   0 189   0 212   0]\n",
      " [178 155 116 221  96   3 220   0 205   0 201   0]]\n",
      "[[  71   82   48   50   72  -24  116  111   52   50   86   71]\n",
      " [  28 -101  116  -35   96    3  -34    0  -72    0  -55    0]\n",
      " [  38 -101  116  -35  -62    3   30    1  -10    0  -33    0]\n",
      " [  48 -101  116  -35  112    3  -18    0  -48    0  -52    0]\n",
      " [  58 -101  116  -35  -99    3  -44    0  -81    0  -53    0]\n",
      " [  68 -101  116  -35   45    4  -34    0   15    1  -52    0]\n",
      " [  78 -101  116  -35   28    5   32    1  103    1    3    1]\n",
      " [  88 -101  116  -35   49    3  -55    0  -97    0  -47    0]\n",
      " [  98 -101  116  -35  105    2   54    1  100    0  -37    0]\n",
      " [ 108 -101  116  -35 -116    2  -23    0 -125    0  -42    0]\n",
      " [ 118 -101  116  -35 -107    2   66    1  103    0  -50    0]\n",
      " [-128 -101  116  -35   23    3   55    1 -116    0  -13    0]\n",
      " [-118 -101  116  -35  113    3  -32    0  -63    0  -18    0]\n",
      " [-108 -101  116  -35   44    3 -118    1  -92    0   33    1]\n",
      " [ -98 -101  116  -35   23    3  -49    0 -107    0  -43    0]\n",
      " [ -88 -101  116  -35  117    3  -50    0  -67    0  -44    0]\n",
      " [ -78 -101  116  -35   96    3  -36    0  -51    0  -55    0]]\n"
     ]
    }
   ],
   "source": [
    "import numpy as np\n",
    "import urllib.request\n",
    "\n",
    "page = urllib.request.urlopen(\"http://mgr.imces.ru/stdpub/mgr-baikal/hsg-irkutsk/48E8746F34325647_170926_092325.gr2\")\n",
    "f = open(\"test.txt\", \"w\")\n",
    "content = page.read()\n",
    "numpy_data = np.frombuffer(content, dtype = np.dtype('B')).reshape(int(len(content)/12),12)\n",
    "numpy_data_1 = np.frombuffer(content, dtype = np.dtype('b')).reshape(int(len(content)/12),12)\n",
    "\n",
    "f.close()\n",
    "\n",
    "print(numpy_data)\n",
    "print(numpy_data_1)\n",
    "\n",
    "numpy_date = np.array(numpy_data[1:,:4], dtype=np.uint32)\n",
    "numpy_H1_amplituda = numpy_data[1:,4:6]\n",
    "numpy_H1_amp_count = numpy_data[1:,6:8]\n",
    "numpy_H2_amplituda = numpy_data[1:,8:10]\n",
    "numpy_H2_amp_count = numpy_data[1:,10:12]\n",
    " "
   ]
  },
  {
   "cell_type": "code",
   "execution_count": 2,
   "metadata": {},
   "outputs": [],
   "source": [
    "# numpy_date  \n",
    "# numpy_H1_amplituda  \n",
    "# numpy_H1_amp_count  \n",
    "# numpy_H2_amplituda  \n",
    "# numpy_H2_amp_count  "
   ]
  },
  {
   "cell_type": "code",
   "execution_count": 3,
   "metadata": {
    "scrolled": true
   },
   "outputs": [],
   "source": [
    "def HextoInt(x,Count_of_Column):\n",
    "    s=0\n",
    "    for i in range(Count_of_Column-1,-1,-1):\n",
    "        s = s+numpy_date[Count_of_Column,i]*pow(16,i*2)\n",
    "    return s"
   ]
  },
  {
   "cell_type": "code",
   "execution_count": null,
   "metadata": {},
   "outputs": [],
   "source": []
  },
  {
   "cell_type": "code",
   "execution_count": 6,
   "metadata": {},
   "outputs": [
    {
     "data": {
      "text/plain": [
       "'Tuesday, September 26, 2017 04:24:20'"
      ]
     },
     "execution_count": 6,
     "metadata": {},
     "output_type": "execute_result"
    }
   ],
   "source": [
    "from datetime import datetime\n",
    "datetime.fromtimestamp(HextoInt(numpy_date[0],4)-2209032000).strftime(\"%A, %B %d, %Y %I:%M:%S\")\n"
   ]
  },
  {
   "cell_type": "code",
   "execution_count": 15,
   "metadata": {},
   "outputs": [
    {
     "data": {
      "text/plain": [
       "39728"
      ]
     },
     "execution_count": 15,
     "metadata": {},
     "output_type": "execute_result"
    }
   ],
   "source": [
    "HextoInt(numpy_H1_amp_count[0],2)"
   ]
  },
  {
   "cell_type": "code",
   "execution_count": 111,
   "metadata": {},
   "outputs": [
    {
     "data": {
      "text/plain": [
       "array([        38, 4294967195,        116, 4294967261], dtype=uint32)"
      ]
     },
     "execution_count": 111,
     "metadata": {},
     "output_type": "execute_result"
    }
   ],
   "source": [
    "numpy_date[1]"
   ]
  },
  {
   "cell_type": "code",
   "execution_count": 136,
   "metadata": {},
   "outputs": [],
   "source": [
    "arr = np.fromfile('12.gr2', dtype='<i1')\n",
    "arr1 = np.fromfile('12.gr2', dtype=np.int16)"
   ]
  },
  {
   "cell_type": "code",
   "execution_count": 137,
   "metadata": {},
   "outputs": [
    {
     "data": {
      "text/plain": [
       "array([[  71,   82,   48,   50,   72,  -24,  116,  111,   52,   50,   86,\n",
       "          71],\n",
       "       [  28, -101,  116,  -35,   96,    3,  -34,    0,  -72,    0,  -55,\n",
       "           0],\n",
       "       [  38, -101,  116,  -35,  -62,    3,   30,    1,  -10,    0,  -33,\n",
       "           0],\n",
       "       [  48, -101,  116,  -35,  112,    3,  -18,    0,  -48,    0,  -52,\n",
       "           0],\n",
       "       [  58, -101,  116,  -35,  -99,    3,  -44,    0,  -81,    0,  -53,\n",
       "           0],\n",
       "       [  68, -101,  116,  -35,   45,    4,  -34,    0,   15,    1,  -52,\n",
       "           0],\n",
       "       [  78, -101,  116,  -35,   28,    5,   32,    1,  103,    1,    3,\n",
       "           1],\n",
       "       [  88, -101,  116,  -35,   49,    3,  -55,    0,  -97,    0,  -47,\n",
       "           0],\n",
       "       [  98, -101,  116,  -35,  105,    2,   54,    1,  100,    0,  -37,\n",
       "           0],\n",
       "       [ 108, -101,  116,  -35, -116,    2,  -23,    0, -125,    0,  -42,\n",
       "           0],\n",
       "       [ 118, -101,  116,  -35, -107,    2,   66,    1,  103,    0,  -50,\n",
       "           0],\n",
       "       [-128, -101,  116,  -35,   23,    3,   55,    1, -116,    0,  -13,\n",
       "           0],\n",
       "       [-118, -101,  116,  -35,  113,    3,  -32,    0,  -63,    0,  -18,\n",
       "           0],\n",
       "       [-108, -101,  116,  -35,   44,    3, -118,    1,  -92,    0,   33,\n",
       "           1],\n",
       "       [ -98, -101,  116,  -35,   23,    3,  -49,    0, -107,    0,  -43,\n",
       "           0],\n",
       "       [ -88, -101,  116,  -35,  117,    3,  -50,    0,  -67,    0,  -44,\n",
       "           0],\n",
       "       [ -78, -101,  116,  -35,   96,    3,  -36,    0,  -51,    0,  -55,\n",
       "           0]], dtype=int8)"
      ]
     },
     "execution_count": 137,
     "metadata": {},
     "output_type": "execute_result"
    }
   ],
   "source": [
    "arr.reshape(17,12)\n"
   ]
  },
  {
   "cell_type": "code",
   "execution_count": 140,
   "metadata": {},
   "outputs": [],
   "source": [
    "z = arr[::-1].reshape(17\n",
    "                  ,12)\n"
   ]
  },
  {
   "cell_type": "code",
   "execution_count": 152,
   "metadata": {},
   "outputs": [
    {
     "data": {
      "text/plain": [
       "array([[   0,  -55,    0,  -51,    0,  -36,    3,   96,  -35,  116, -101,\n",
       "         -78],\n",
       "       [   0,  -44,    0,  -67,    0,  -50,    3,  117,  -35,  116, -101,\n",
       "         -88],\n",
       "       [   0,  -43,    0, -107,    0,  -49,    3,   23,  -35,  116, -101,\n",
       "         -98],\n",
       "       [   1,   33,    0,  -92,    1, -118,    3,   44,  -35,  116, -101,\n",
       "        -108],\n",
       "       [   0,  -18,    0,  -63,    0,  -32,    3,  113,  -35,  116, -101,\n",
       "        -118],\n",
       "       [   0,  -13,    0, -116,    1,   55,    3,   23,  -35,  116, -101,\n",
       "        -128],\n",
       "       [   0,  -50,    0,  103,    1,   66,    2, -107,  -35,  116, -101,\n",
       "         118],\n",
       "       [   0,  -42,    0, -125,    0,  -23,    2, -116,  -35,  116, -101,\n",
       "         108],\n",
       "       [   0,  -37,    0,  100,    1,   54,    2,  105,  -35,  116, -101,\n",
       "          98],\n",
       "       [   0,  -47,    0,  -97,    0,  -55,    3,   49,  -35,  116, -101,\n",
       "          88],\n",
       "       [   1,    3,    1,  103,    1,   32,    5,   28,  -35,  116, -101,\n",
       "          78],\n",
       "       [   0,  -52,    1,   15,    0,  -34,    4,   45,  -35,  116, -101,\n",
       "          68],\n",
       "       [   0,  -53,    0,  -81,    0,  -44,    3,  -99,  -35,  116, -101,\n",
       "          58],\n",
       "       [   0,  -52,    0,  -48,    0,  -18,    3,  112,  -35,  116, -101,\n",
       "          48],\n",
       "       [   0,  -33,    0,  -10,    1,   30,    3,  -62,  -35,  116, -101,\n",
       "          38],\n",
       "       [   0,  -55,    0,  -72,    0,  -34,    3,   96,  -35,  116, -101,\n",
       "          28],\n",
       "       [  71,   86,   50,   52,  111,  116,  -24,   72,   50,   48,   82,\n",
       "          71]])"
      ]
     },
     "execution_count": 152,
     "metadata": {},
     "output_type": "execute_result"
    }
   ],
   "source": [
    "z"
   ]
  },
  {
   "cell_type": "code",
   "execution_count": 155,
   "metadata": {},
   "outputs": [],
   "source": [
    "z  = np.array(z,dtype='<i4')"
   ]
  },
  {
   "cell_type": "code",
   "execution_count": 156,
   "metadata": {},
   "outputs": [
    {
     "data": {
      "text/plain": [
       "array([[   0,  -55,    0,  -51,    0,  -36,    3,   96,  -35,  116, -101,\n",
       "         -78],\n",
       "       [   0,  -44,    0,  -67,    0,  -50,    3,  117,  -35,  116, -101,\n",
       "         -88],\n",
       "       [   0,  -43,    0, -107,    0,  -49,    3,   23,  -35,  116, -101,\n",
       "         -98],\n",
       "       [   1,   33,    0,  -92,    1, -118,    3,   44,  -35,  116, -101,\n",
       "        -108],\n",
       "       [   0,  -18,    0,  -63,    0,  -32,    3,  113,  -35,  116, -101,\n",
       "        -118],\n",
       "       [   0,  -13,    0, -116,    1,   55,    3,   23,  -35,  116, -101,\n",
       "        -128],\n",
       "       [   0,  -50,    0,  103,    1,   66,    2, -107,  -35,  116, -101,\n",
       "         118],\n",
       "       [   0,  -42,    0, -125,    0,  -23,    2, -116,  -35,  116, -101,\n",
       "         108],\n",
       "       [   0,  -37,    0,  100,    1,   54,    2,  105,  -35,  116, -101,\n",
       "          98],\n",
       "       [   0,  -47,    0,  -97,    0,  -55,    3,   49,  -35,  116, -101,\n",
       "          88],\n",
       "       [   1,    3,    1,  103,    1,   32,    5,   28,  -35,  116, -101,\n",
       "          78],\n",
       "       [   0,  -52,    1,   15,    0,  -34,    4,   45,  -35,  116, -101,\n",
       "          68],\n",
       "       [   0,  -53,    0,  -81,    0,  -44,    3,  -99,  -35,  116, -101,\n",
       "          58],\n",
       "       [   0,  -52,    0,  -48,    0,  -18,    3,  112,  -35,  116, -101,\n",
       "          48],\n",
       "       [   0,  -33,    0,  -10,    1,   30,    3,  -62,  -35,  116, -101,\n",
       "          38],\n",
       "       [   0,  -55,    0,  -72,    0,  -34,    3,   96,  -35,  116, -101,\n",
       "          28],\n",
       "       [  71,   86,   50,   52,  111,  116,  -24,   72,   50,   48,   82,\n",
       "          71]])"
      ]
     },
     "execution_count": 156,
     "metadata": {},
     "output_type": "execute_result"
    }
   ],
   "source": [
    "z"
   ]
  },
  {
   "cell_type": "code",
   "execution_count": null,
   "metadata": {},
   "outputs": [],
   "source": []
  },
  {
   "cell_type": "code",
   "execution_count": null,
   "metadata": {},
   "outputs": [],
   "source": []
  },
  {
   "cell_type": "code",
   "execution_count": null,
   "metadata": {},
   "outputs": [],
   "source": []
  }
 ],
 "metadata": {
  "kernelspec": {
   "display_name": "Python 3",
   "language": "python",
   "name": "python3"
  },
  "language_info": {
   "codemirror_mode": {
    "name": "ipython",
    "version": 3
   },
   "file_extension": ".py",
   "mimetype": "text/x-python",
   "name": "python",
   "nbconvert_exporter": "python",
   "pygments_lexer": "ipython3",
   "version": "3.7.3"
  }
 },
 "nbformat": 4,
 "nbformat_minor": 2
}
