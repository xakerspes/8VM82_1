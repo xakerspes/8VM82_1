{
 "cells": [
  {
   "cell_type": "code",
   "execution_count": 83,
   "metadata": {},
   "outputs": [],
   "source": [
    "import numpy as np\n",
    "from datetime import datetime\n",
    "import numpy as np\n",
    "import urllib.request"
   ]
  },
  {
   "cell_type": "code",
   "execution_count": 84,
   "metadata": {},
   "outputs": [],
   "source": []
  },
  {
   "cell_type": "code",
   "execution_count": 298,
   "metadata": {},
   "outputs": [],
   "source": [
    "page = urllib.request.urlopen(\"http://mgr.imces.ru/stdpub/mgr-baikal/hsg-irkutsk/48E8746F34325647_170926_092325.gr2\")\n",
    "f = open(\"test.txt\", \"w\")\n",
    "content = page.read()\n",
    "numpy_data_polojitelnie = np.frombuffer(content, dtype = np.dtype('B')).reshape(int(len(content)/12),12)\n",
    "numpy_data_otrisatelnie = np.frombuffer(content, dtype = np.dtype('b')).reshape(int(len(content)/12),12)\n",
    "f.close()\n",
    "gr2 = 12\n",
    "length_column = int(len(content) / gr2) -  1 #(вычитаем первую строку так как в этой строке  допольнителные данные )\n",
    "# print(numpy_data_polojitelnie)\n",
    "# print(numpy_data_otrisatelnie)"
   ]
  },
  {
   "cell_type": "code",
   "execution_count": 420,
   "metadata": {},
   "outputs": [
    {
     "name": "stdout",
     "output_type": "stream",
     "text": [
      "[[ 96   3]\n",
      " [194   3]\n",
      " [112   3]\n",
      " [157   3]\n",
      " [ 45   4]\n",
      " [ 28   5]\n",
      " [ 49   3]\n",
      " [105   2]\n",
      " [140   2]\n",
      " [149   2]\n",
      " [ 23   3]\n",
      " [113   3]\n",
      " [ 44   3]\n",
      " [ 23   3]\n",
      " [117   3]\n",
      " [ 96   3]]\n",
      "[[184   0]\n",
      " [246   0]\n",
      " [208   0]\n",
      " [175   0]\n",
      " [ 15   1]\n",
      " [103   1]\n",
      " [159   0]\n",
      " [100   0]\n",
      " [131   0]\n",
      " [103   0]\n",
      " [140   0]\n",
      " [193   0]\n",
      " [164   0]\n",
      " [149   0]\n",
      " [189   0]\n",
      " [205   0]]\n"
     ]
    }
   ],
   "source": [
    "numpy_date = np.array(numpy_data_polojitelnie[1:,:4], dtype=np.uint32)\n",
    "numpy_H1_amp_count = numpy_data_polojitelnie[1:,4:6]\n",
    "numpy_H1_amp_amplituda = numpy_data_otrisatelnie[1:,6:8]\n",
    "numpy_H2_amp_count = numpy_data_polojitelnie[1:,8:10]\n",
    "numpy_H2_amplituda = numpy_data_otrisatelnie[1:,10:12]\n",
    "\n",
    "# print (numpy_date)\n",
    "\n",
    "print(numpy_H1_amp_count)\n",
    "#print (numpy_H1_amplituda)\n",
    "\n",
    "print(numpy_H2_amp_count)\n",
    "# print(numpy_H2_amplituda)\n"
   ]
  },
  {
   "cell_type": "code",
   "execution_count": 337,
   "metadata": {},
   "outputs": [],
   "source": [
    "# Funksiya kotoraya vozrshayet vremya v sekundax iz pervoy stolbsa\n",
    "def date_v_sekundax(massiv): \n",
    "    \n",
    "    s = np.zeros(length_column, dtype='uint64')\n",
    "    for i in range(length_column):\n",
    "        s[i] = massiv[i,3] * (pow(16,6)) +  massiv[i,1] * (pow(16,4)) +massiv[i,2] * (pow(16,2)) +  massiv[i,0]\n",
    "    return s      "
   ]
  },
  {
   "cell_type": "code",
   "execution_count": 364,
   "metadata": {},
   "outputs": [],
   "source": [
    "array_date_v_sekundax= date_v_sekundax(numpy_date)"
   ]
  },
  {
   "cell_type": "code",
   "execution_count": 365,
   "metadata": {},
   "outputs": [
    {
     "data": {
      "text/plain": [
       "array([3717952540, 3717952550, 3717952560, 3717952570, 3717952580,\n",
       "       3717952590, 3717952600, 3717952610, 3717952620, 3717952630,\n",
       "       3717952640, 3717952650, 3717952660, 3717952670, 3717952680,\n",
       "       3717952690], dtype=uint64)"
      ]
     },
     "execution_count": 365,
     "metadata": {},
     "output_type": "execute_result"
    }
   ],
   "source": [
    "array_date_v_sekundax"
   ]
  },
  {
   "cell_type": "code",
   "execution_count": 421,
   "metadata": {},
   "outputs": [],
   "source": [
    "# Funksiya kotoraya vozrshayet vremya v obichnom formate\n",
    "def data_obichniy_format(massiv): \n",
    "    s = np.zeros(length_column, dtype='<U36') #\"<U36\"dlina simvolov\n",
    "    for i in range(len(massiv)):\n",
    "        s[i] = datetime.fromtimestamp(massiv[i] -2209032000).strftime(\"%A, %B %d, %Y %I:%M:%S\")\n",
    "    return s    "
   ]
  },
  {
   "cell_type": "code",
   "execution_count": 422,
   "metadata": {},
   "outputs": [],
   "source": [
    "array_data_obichniy_format = data_obichniy_format(array_date_v_sekundax)"
   ]
  },
  {
   "cell_type": "code",
   "execution_count": 435,
   "metadata": {},
   "outputs": [
    {
     "data": {
      "text/plain": [
       "array(['Wednesday, October 25, 2017 03:35:40',\n",
       "       'Wednesday, October 25, 2017 03:35:50',\n",
       "       'Wednesday, October 25, 2017 03:36:00',\n",
       "       'Wednesday, October 25, 2017 03:36:10',\n",
       "       'Wednesday, October 25, 2017 03:36:20',\n",
       "       'Wednesday, October 25, 2017 03:36:30',\n",
       "       'Wednesday, October 25, 2017 03:36:40',\n",
       "       'Wednesday, October 25, 2017 03:36:50',\n",
       "       'Wednesday, October 25, 2017 03:37:00',\n",
       "       'Wednesday, October 25, 2017 03:37:10',\n",
       "       'Wednesday, October 25, 2017 03:37:20',\n",
       "       'Wednesday, October 25, 2017 03:37:30',\n",
       "       'Wednesday, October 25, 2017 03:37:40',\n",
       "       'Wednesday, October 25, 2017 03:37:50',\n",
       "       'Wednesday, October 25, 2017 03:38:00',\n",
       "       'Wednesday, October 25, 2017 03:38:10'], dtype='<U36')"
      ]
     },
     "execution_count": 435,
     "metadata": {},
     "output_type": "execute_result"
    }
   ],
   "source": [
    "array_data_obichniy_format"
   ]
  },
  {
   "cell_type": "code",
   "execution_count": 436,
   "metadata": {},
   "outputs": [],
   "source": [
    "# Funksiya obyedinyayet 2 stolbsa i vozvrashayet massiv desyaterichnom vide\n",
    "def func_join_2_column(massiv): \n",
    "    s = np.zeros(length_column, dtype='uint32')\n",
    "    for i in range(length_column):\n",
    "        s[i] = massiv[i,0]  +  massiv[i,1] * 16\n",
    "    return s      "
   ]
  },
  {
   "cell_type": "code",
   "execution_count": 438,
   "metadata": {},
   "outputs": [
    {
     "data": {
      "text/plain": [
       "array([184, 246, 208, 175,  31, 119, 159, 100, 131, 103, 140, 193, 164,\n",
       "       149, 189, 205], dtype=uint32)"
      ]
     },
     "execution_count": 438,
     "metadata": {},
     "output_type": "execute_result"
    }
   ],
   "source": [
    "func_join_2_column(numpy_H2_amp_count)"
   ]
  },
  {
   "cell_type": "code",
   "execution_count": 439,
   "metadata": {},
   "outputs": [
    {
     "data": {
      "text/plain": [
       "array([[184,   0],\n",
       "       [246,   0],\n",
       "       [208,   0],\n",
       "       [175,   0],\n",
       "       [ 15,   1],\n",
       "       [103,   1],\n",
       "       [159,   0],\n",
       "       [100,   0],\n",
       "       [131,   0],\n",
       "       [103,   0],\n",
       "       [140,   0],\n",
       "       [193,   0],\n",
       "       [164,   0],\n",
       "       [149,   0],\n",
       "       [189,   0],\n",
       "       [205,   0]], dtype=uint8)"
      ]
     },
     "execution_count": 439,
     "metadata": {},
     "output_type": "execute_result"
    }
   ],
   "source": [
    "numpy_H2_amp_count"
   ]
  },
  {
   "cell_type": "code",
   "execution_count": null,
   "metadata": {},
   "outputs": [],
   "source": []
  },
  {
   "cell_type": "code",
   "execution_count": null,
   "metadata": {},
   "outputs": [],
   "source": []
  }
 ],
 "metadata": {
  "kernelspec": {
   "display_name": "Python 3",
   "language": "python",
   "name": "python3"
  },
  "language_info": {
   "codemirror_mode": {
    "name": "ipython",
    "version": 3
   },
   "file_extension": ".py",
   "mimetype": "text/x-python",
   "name": "python",
   "nbconvert_exporter": "python",
   "pygments_lexer": "ipython3",
   "version": "3.7.3"
  }
 },
 "nbformat": 4,
 "nbformat_minor": 2
}
